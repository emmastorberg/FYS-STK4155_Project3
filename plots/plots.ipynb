{
 "cells": [
  {
   "cell_type": "code",
   "execution_count": null,
   "metadata": {},
   "outputs": [],
   "source": [
    "# Necessary imports\n",
    "import utils\n",
    "from Diffusion1D import *"
   ]
  },
  {
   "cell_type": "code",
   "execution_count": null,
   "metadata": {},
   "outputs": [],
   "source": [
    "# Helper variables\n",
    "L = 1\n",
    "dx = 0.1\n",
    "N = L / dx\n",
    "dt = 0.005\n",
    "Nt = 100\n",
    "t_max = dt*Nt"
   ]
  },
  {
   "cell_type": "code",
   "execution_count": null,
   "metadata": {},
   "outputs": [],
   "source": [
    "# Plot analytical solution\n",
    "x = np.linspace(0, L, N + 1)\n",
    "t = np.linspace(0, t_max, Nt + 1)\n",
    "u = utils.analytical_solution(x, t)\n",
    "\n",
    "utils.plot_diffusion_eq(x, t, u)"
   ]
  },
  {
   "cell_type": "code",
   "execution_count": null,
   "metadata": {},
   "outputs": [],
   "source": [
    "# Plot numerical solution\n",
    "solver = Diffusion1D(dx=dx, dt=dt)\n",
    "data = utils.dict_to_matrix(solver(Nt=Nt, save_step=1))\n",
    "\n",
    "utils.plot_diffusion_eq(solver.x, np.linspace(0, t_max, Nt + 1), data)"
   ]
  },
  {
   "cell_type": "code",
   "execution_count": null,
   "metadata": {},
   "outputs": [],
   "source": [
    "# Numerical solution animated\n",
    "solver = Diffusion1D(dx=dx, dt=dt)\n",
    "data_dict = solver(Nt, save_step=1)\n",
    "\n",
    "solver.animation(data_dict)"
   ]
  }
 ],
 "metadata": {
  "kernelspec": {
   "display_name": "Python 3",
   "language": "python",
   "name": "python3"
  },
  "language_info": {
   "name": "python",
   "version": "3.12.6"
  }
 },
 "nbformat": 4,
 "nbformat_minor": 2
}
